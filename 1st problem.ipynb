{
 "cells": [
  {
   "cell_type": "code",
   "execution_count": 11,
   "metadata": {},
   "outputs": [
    {
     "name": "stdout",
     "output_type": "stream",
     "text": [
      "2000= 1 \n",
      " 500= 2\n",
      "100= 5 \n",
      "10= 1 \n",
      "change= 0\n"
     ]
    }
   ],
   "source": [
    "amt = 3510\n",
    "ons = amt%10\n",
    "tns = (amt//10)%10\n",
    "hnds = (amt//100)%10\n",
    "thnd = (amt//1000)%10\n",
    "if thnd%2 == 0:\n",
    "    print(\"2000=\",thnd//2)\n",
    "else:\n",
    "    print(\"2000=\",thnd//2,'\\n',\"500= 2\")\n",
    "    \n",
    "print(\"100=\",hnds,'\\n'\"10=\",tns,'\\n'\"change=\",ons)\n"
   ]
  },
  {
   "cell_type": "code",
   "execution_count": null,
   "metadata": {},
   "outputs": [],
   "source": []
  },
  {
   "cell_type": "code",
   "execution_count": null,
   "metadata": {},
   "outputs": [],
   "source": []
  }
 ],
 "metadata": {
  "kernelspec": {
   "display_name": "Python 3",
   "language": "python",
   "name": "python3"
  },
  "language_info": {
   "codemirror_mode": {
    "name": "ipython",
    "version": 3
   },
   "file_extension": ".py",
   "mimetype": "text/x-python",
   "name": "python",
   "nbconvert_exporter": "python",
   "pygments_lexer": "ipython3",
   "version": "3.7.4"
  }
 },
 "nbformat": 4,
 "nbformat_minor": 2
}
