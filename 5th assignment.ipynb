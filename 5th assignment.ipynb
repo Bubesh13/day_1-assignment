{
 "cells": [
  {
   "cell_type": "code",
   "execution_count": 9,
   "metadata": {},
   "outputs": [
    {
     "name": "stdout",
     "output_type": "stream",
     "text": [
      "['Acme', 'Italian', 2, 4, 3, 5]\n",
      "['Bella Troy', 'Italian', 1, 4, 5]\n"
     ]
    }
   ],
   "source": [
    "restraunt = [['Acme','Italian',2,4,3,5],['Flintstone','Steak',5,2,4,3,3,4],['Bella Troy','Italian',1,4,5]]\n",
    "for sub_list in restraunt:\n",
    "    for item in sub_list:\n",
    "        if item != 1 and item =='Italian' :\n",
    "            print(sub_list)\n",
    "            "
   ]
  }
 ],
 "metadata": {
  "kernelspec": {
   "display_name": "Python 3",
   "language": "python",
   "name": "python3"
  },
  "language_info": {
   "codemirror_mode": {
    "name": "ipython",
    "version": 3
   },
   "file_extension": ".py",
   "mimetype": "text/x-python",
   "name": "python",
   "nbconvert_exporter": "python",
   "pygments_lexer": "ipython3",
   "version": "3.7.4"
  }
 },
 "nbformat": 4,
 "nbformat_minor": 2
}
