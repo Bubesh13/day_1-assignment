{
 "cells": [
  {
   "cell_type": "code",
   "execution_count": 25,
   "metadata": {},
   "outputs": [
    {
     "name": "stdout",
     "output_type": "stream",
     "text": [
      "Counter({'a': 13, 'b': 11, 's': 10, 'k': 2, 'l': 2, 'j': 2, 'd': 2})\n",
      "a \n",
      "appears: 13 times\n"
     ]
    }
   ],
   "source": [
    "from collections import Counter\n",
    "inpt = \"aaaaaaaaaaaabbbbbbbbbbbssssssssskljdsalkjd\" \n",
    "value = Counter(inpt)\n",
    "print(Counter(inpt))\n",
    "max_char = max(value.values())\n",
    "print(list(value)[0],'\\n'\"appears:\",max_char,'times')\n"
   ]
  }
 ],
 "metadata": {
  "kernelspec": {
   "display_name": "Python 3",
   "language": "python",
   "name": "python3"
  },
  "language_info": {
   "codemirror_mode": {
    "name": "ipython",
    "version": 3
   },
   "file_extension": ".py",
   "mimetype": "text/x-python",
   "name": "python",
   "nbconvert_exporter": "python",
   "pygments_lexer": "ipython3",
   "version": "3.7.4"
  }
 },
 "nbformat": 4,
 "nbformat_minor": 2
}
